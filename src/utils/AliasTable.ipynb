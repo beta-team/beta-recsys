{
 "cells": [
  {
   "cell_type": "code",
   "execution_count": 158,
   "metadata": {},
   "outputs": [],
   "source": [
    "import math\n",
    "import numpy as np\n",
    "import numpy\n",
    "\n",
    "class AliasTable:\n",
    "    \"\"\"\n",
    "    A list of indices of tokens in the vocab following a power law distribution,\n",
    "    used to draw negative samples.\n",
    "    \"\"\"\n",
    "\n",
    "    def __init__(self, obj_freq):\n",
    "        vocab_size = len(obj_freq)\n",
    "        self.vocab_size = vocab_size\n",
    "        \n",
    "        if type(obj_freq) == list:  # obj_freq can be a list\n",
    "            if len(np.array(obj_freq).shape) != 1:\n",
    "                raise ValueError(\"Error: obj_freq is not 1-dim\")\n",
    "            total = np.sum(obj_freq)\n",
    "        elif type(obj_freq) == dict:  # obj_freq can be a dict\n",
    "            total = np.sum(list(obj_freq.values()))\n",
    "        else:\n",
    "            raise ValueError(\"Error: obj_freq is invalid\")\n",
    "        print(\"total\",total)\n",
    "        \n",
    "        probs = []\n",
    "        index2Label = [] # used to transform an index to label in dict\n",
    "        if type(obj_freq) == list:\n",
    "            for i in range(len(obj_freq)):\n",
    "                probs.append(obj_freq[i] / total)\n",
    "                index2Label.append(i)\n",
    "        elif type(obj_freq) == dict:\n",
    "            i = 0\n",
    "            for obj, freq in obj_freq.items():\n",
    "                i += 1\n",
    "                probs.append(freq / total)\n",
    "                index2Label.append(obj)\n",
    "                \n",
    "        table_size = vocab_size\n",
    "        prob_arr = np.zeros(table_size) # Probability Array\n",
    "        alias_arr = np.zeros(table_size, dtype=np.int) # Alias Array\n",
    "        print(\"Filling alias table, probs: \", probs)\n",
    "        \n",
    "        # Sort the data into the outcomes with probabilities\n",
    "        # that are larger and smaller than 1/K.\n",
    "        smaller = [] # save columns that are smaller than 1\n",
    "        larger  = [] # save columns that are larger than 1\n",
    "        for index, prob in enumerate(probs):\n",
    "            prob_arr[index] = table_size * prob # probability * vocab_size\n",
    "            if prob_arr[index] < 1.0:\n",
    "                smaller.append(index)\n",
    "            else:\n",
    "                larger.append(index)\n",
    "                \n",
    "        # Loop though and create little binary mixtures that\n",
    "        # appropriately allocate the larger outcomes over the\n",
    "        # overall uniform mixture.\n",
    "        while len(smaller) > 0 and len(larger) > 0:\n",
    "            small = smaller.pop()\n",
    "            large = larger.pop()\n",
    "\n",
    "            alias_arr[small] = large # Fill Alias with the large\n",
    "            prob_arr[large] = prob_arr[large] - (1.0 - prob_arr[small])\n",
    "\n",
    "            if prob_arr[large] < 1.0:\n",
    "                smaller.append(large)\n",
    "            else:\n",
    "                larger.append(large)\n",
    "        self.prob_arr = prob_arr\n",
    "        self.alias_arr = alias_arr\n",
    "        self.index2Label = index2Label\n",
    "    \n",
    "    def sample(self, count, obj_num=1, no_repeat=False):\n",
    "        nd_samples = []\n",
    "        for i in range(obj_num):\n",
    "            indices = np.random.randint(low=0, high=len(self.prob_arr), size=count)\n",
    "            samples = []\n",
    "            for i in indices:\n",
    "                if np.random.uniform() < self.prob_arr[i]:\n",
    "                    samples.append(self.index2Label[i])\n",
    "                else:\n",
    "                    samples.append(self.index2Label[self.alias_arr[i]])\n",
    "            if no_repeat:\n",
    "                if count > self.vocab_size:\n",
    "                    raise ValueError(\"Error: count>vocab_size!! Skip no_repeat parameter\")\n",
    "                    return samples\n",
    "                samples = set(samples)\n",
    "                while len(samples) < count:\n",
    "                    index = np.random.randint(low=0, high=len(self.prob_arr))\n",
    "                    if np.random.uniform() < self.prob_arr[index]:\n",
    "                        samples = samples | {self.index2Label[index]}\n",
    "                    else:\n",
    "                        samples = samples | {self.index2Label[self.alias_arr[index]]}\n",
    "                samples = list(samples)\n",
    "            if obj_num == 1:\n",
    "                return samples\n",
    "            nd_samples.append(samples)\n",
    "        return nd_samples\n",
    "    "
   ]
  },
  {
   "cell_type": "code",
   "execution_count": 169,
   "metadata": {},
   "outputs": [
    {
     "ename": "ValueError",
     "evalue": "Error: obj_freq is not 1-dim",
     "output_type": "error",
     "traceback": [
      "\u001b[0;31m---------------------------------------------------------------------------\u001b[0m",
      "\u001b[0;31mValueError\u001b[0m                                Traceback (most recent call last)",
      "\u001b[0;32m<ipython-input-169-8e1baf73d2f2>\u001b[0m in \u001b[0;36m<module>\u001b[0;34m\u001b[0m\n\u001b[1;32m      2\u001b[0m \u001b[0;31m# obj_freq = [6, 4, 1, 1]\u001b[0m\u001b[0;34m\u001b[0m\u001b[0;34m\u001b[0m\u001b[0;34m\u001b[0m\u001b[0m\n\u001b[1;32m      3\u001b[0m \u001b[0mobj_freq\u001b[0m \u001b[0;34m=\u001b[0m \u001b[0;34m[\u001b[0m\u001b[0;34m[\u001b[0m\u001b[0;36m1\u001b[0m\u001b[0;34m,\u001b[0m \u001b[0;36m2\u001b[0m\u001b[0;34m,\u001b[0m \u001b[0;36m3\u001b[0m\u001b[0;34m]\u001b[0m\u001b[0;34m,\u001b[0m \u001b[0;34m[\u001b[0m\u001b[0;36m4\u001b[0m\u001b[0;34m,\u001b[0m \u001b[0;36m5\u001b[0m \u001b[0;34m,\u001b[0m\u001b[0;36m6\u001b[0m\u001b[0;34m]\u001b[0m\u001b[0;34m]\u001b[0m\u001b[0;34m\u001b[0m\u001b[0;34m\u001b[0m\u001b[0m\n\u001b[0;32m----> 4\u001b[0;31m \u001b[0malias_table\u001b[0m \u001b[0;34m=\u001b[0m \u001b[0mAliasTable\u001b[0m\u001b[0;34m(\u001b[0m\u001b[0mobj_freq\u001b[0m\u001b[0;34m)\u001b[0m\u001b[0;34m\u001b[0m\u001b[0;34m\u001b[0m\u001b[0m\n\u001b[0m",
      "\u001b[0;32m<ipython-input-158-cb2386b1c2bd>\u001b[0m in \u001b[0;36m__init__\u001b[0;34m(self, obj_freq)\u001b[0m\n\u001b[1;32m     15\u001b[0m         \u001b[0;32mif\u001b[0m \u001b[0mtype\u001b[0m\u001b[0;34m(\u001b[0m\u001b[0mobj_freq\u001b[0m\u001b[0;34m)\u001b[0m \u001b[0;34m==\u001b[0m \u001b[0mlist\u001b[0m\u001b[0;34m:\u001b[0m  \u001b[0;31m# obj_freq can be a list\u001b[0m\u001b[0;34m\u001b[0m\u001b[0;34m\u001b[0m\u001b[0m\n\u001b[1;32m     16\u001b[0m             \u001b[0;32mif\u001b[0m \u001b[0mlen\u001b[0m\u001b[0;34m(\u001b[0m\u001b[0mnp\u001b[0m\u001b[0;34m.\u001b[0m\u001b[0marray\u001b[0m\u001b[0;34m(\u001b[0m\u001b[0mobj_freq\u001b[0m\u001b[0;34m)\u001b[0m\u001b[0;34m.\u001b[0m\u001b[0mshape\u001b[0m\u001b[0;34m)\u001b[0m \u001b[0;34m!=\u001b[0m \u001b[0;36m1\u001b[0m\u001b[0;34m:\u001b[0m\u001b[0;34m\u001b[0m\u001b[0;34m\u001b[0m\u001b[0m\n\u001b[0;32m---> 17\u001b[0;31m                 \u001b[0;32mraise\u001b[0m \u001b[0mValueError\u001b[0m\u001b[0;34m(\u001b[0m\u001b[0;34m\"Error: obj_freq is not 1-dim\"\u001b[0m\u001b[0;34m)\u001b[0m\u001b[0;34m\u001b[0m\u001b[0;34m\u001b[0m\u001b[0m\n\u001b[0m\u001b[1;32m     18\u001b[0m             \u001b[0mtotal\u001b[0m \u001b[0;34m=\u001b[0m \u001b[0mnp\u001b[0m\u001b[0;34m.\u001b[0m\u001b[0msum\u001b[0m\u001b[0;34m(\u001b[0m\u001b[0mobj_freq\u001b[0m\u001b[0;34m)\u001b[0m\u001b[0;34m\u001b[0m\u001b[0;34m\u001b[0m\u001b[0m\n\u001b[1;32m     19\u001b[0m         \u001b[0;32melif\u001b[0m \u001b[0mtype\u001b[0m\u001b[0;34m(\u001b[0m\u001b[0mobj_freq\u001b[0m\u001b[0;34m)\u001b[0m \u001b[0;34m==\u001b[0m \u001b[0mdict\u001b[0m\u001b[0;34m:\u001b[0m  \u001b[0;31m# obj_freq can be a dict\u001b[0m\u001b[0;34m\u001b[0m\u001b[0;34m\u001b[0m\u001b[0m\n",
      "\u001b[0;31mValueError\u001b[0m: Error: obj_freq is not 1-dim"
     ]
    }
   ],
   "source": [
    "# obj_freq = {100: 6, 100: 4, 103: 1, 104: 1}\n",
    "# obj_freq = [6, 4, 1, 1]\n",
    "obj_freq = [[1, 2, 3], [4, 5 ,6]]\n",
    "alias_table = AliasTable(obj_freq)"
   ]
  },
  {
   "cell_type": "code",
   "execution_count": 170,
   "metadata": {},
   "outputs": [
    {
     "data": {
      "text/plain": [
       "array([1. , 0.5, 0.5])"
      ]
     },
     "execution_count": 170,
     "metadata": {},
     "output_type": "execute_result"
    }
   ],
   "source": [
    "alias_table.prob_arr"
   ]
  },
  {
   "cell_type": "code",
   "execution_count": 171,
   "metadata": {},
   "outputs": [
    {
     "data": {
      "text/plain": [
       "array([0, 0, 0])"
      ]
     },
     "execution_count": 171,
     "metadata": {},
     "output_type": "execute_result"
    }
   ],
   "source": [
    "alias_table.alias_arr"
   ]
  },
  {
   "cell_type": "code",
   "execution_count": 167,
   "metadata": {},
   "outputs": [
    {
     "data": {
      "text/plain": [
       "[100, 100]"
      ]
     },
     "execution_count": 167,
     "metadata": {},
     "output_type": "execute_result"
    }
   ],
   "source": [
    "alias_table.sample(2)"
   ]
  },
  {
   "cell_type": "code",
   "execution_count": 168,
   "metadata": {},
   "outputs": [
    {
     "data": {
      "text/plain": [
       "[[100, 100], [100, 100], [103, 103], [100, 100], [104, 100]]"
      ]
     },
     "execution_count": 168,
     "metadata": {},
     "output_type": "execute_result"
    }
   ],
   "source": [
    "alias_table.sample(2, 5)"
   ]
  },
  {
   "cell_type": "code",
   "execution_count": null,
   "metadata": {},
   "outputs": [],
   "source": []
  }
 ],
 "metadata": {
  "kernelspec": {
   "display_name": "Python 3",
   "language": "python",
   "name": "python3"
  },
  "language_info": {
   "codemirror_mode": {
    "name": "ipython",
    "version": 3
   },
   "file_extension": ".py",
   "mimetype": "text/x-python",
   "name": "python",
   "nbconvert_exporter": "python",
   "pygments_lexer": "ipython3",
   "version": "3.7.5"
  }
 },
 "nbformat": 4,
 "nbformat_minor": 4
}
